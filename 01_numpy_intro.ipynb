{
  "cells": [
    {
      "cell_type": "markdown",
      "metadata": {
        "id": "view-in-github",
        "colab_type": "text"
      },
      "source": [
        "<a href=\"https://colab.research.google.com/github/jbogacz/data-science-bootcamp/blob/main/01_numpy_intro.ipynb\" target=\"_parent\"><img src=\"https://colab.research.google.com/assets/colab-badge.svg\" alt=\"Open In Colab\"/></a>"
      ]
    },
    {
      "cell_type": "code",
      "execution_count": null,
      "metadata": {
        "id": "RjHjLxMYuaPT",
        "outputId": "bc6cb7e7-6f2b-4e07-b8ea-d5f96d996d7c"
      },
      "outputs": [
        {
          "data": {
            "text/plain": [
              "'1.24.2'"
            ]
          },
          "execution_count": 1,
          "metadata": {},
          "output_type": "execute_result"
        }
      ],
      "source": [
        "import numpy as np\n",
        "np.__version__"
      ]
    },
    {
      "cell_type": "code",
      "execution_count": null,
      "metadata": {
        "id": "mhqBd9fwuaPX",
        "outputId": "d4805aec-e1e9-4639-fb36-b4740c371ab6"
      },
      "outputs": [
        {
          "data": {
            "text/plain": [
              "(3,)"
            ]
          },
          "execution_count": 7,
          "metadata": {},
          "output_type": "execute_result"
        }
      ],
      "source": [
        "x = np.array([1, 2, 3])\n",
        "x.ndim\n",
        "x.shape"
      ]
    },
    {
      "cell_type": "code",
      "execution_count": null,
      "metadata": {
        "id": "8RLI8jv6uaPX",
        "outputId": "6f3017b2-e656-4a62-a0b2-43bdfabdf40d"
      },
      "outputs": [
        {
          "data": {
            "text/plain": [
              "array([[[1, 2, 3],\n",
              "        [1, 1, 1],\n",
              "        [1, 1, 1]],\n",
              "\n",
              "       [[1, 1, 1],\n",
              "        [1, 1, 1],\n",
              "        [1, 1, 1]],\n",
              "\n",
              "       [[1, 1, 1],\n",
              "        [1, 1, 1],\n",
              "        [1, 1, 1]]])"
            ]
          },
          "execution_count": 13,
          "metadata": {},
          "output_type": "execute_result"
        }
      ],
      "source": [
        "x = np.array([[[1, 2, 3], [1, 1, 1], [1, 1, 1]], [[1, 1, 1] ,[1, 1, 1] ,[1, 1, 1]], [[1, 1, 1], [1, 1, 1], [1, 1, 1]]])\n",
        "x"
      ]
    },
    {
      "cell_type": "code",
      "execution_count": null,
      "metadata": {
        "id": "TA-qyY3LuaPY",
        "outputId": "58bffd73-27c2-4034-dc69-945baf8253c9"
      },
      "outputs": [
        {
          "data": {
            "text/plain": [
              "array([0, 1, 2, 3, 4, 5, 6, 7, 8, 9])"
            ]
          },
          "execution_count": 19,
          "metadata": {},
          "output_type": "execute_result"
        }
      ],
      "source": [
        "np.arange(10)"
      ]
    },
    {
      "cell_type": "code",
      "execution_count": null,
      "metadata": {
        "id": "TVw4oNfkuaPY",
        "outputId": "2d8a608d-941b-4ecb-b71d-5285ae1441e4"
      },
      "outputs": [
        {
          "data": {
            "text/plain": [
              "array([0. , 0.1, 0.2, 0.3, 0.4, 0.5, 0.6, 0.7, 0.8, 0.9, 1. ])"
            ]
          },
          "execution_count": 22,
          "metadata": {},
          "output_type": "execute_result"
        }
      ],
      "source": [
        "np.linspace(start=0 ,stop=1, num=11)"
      ]
    },
    {
      "cell_type": "code",
      "execution_count": null,
      "metadata": {
        "id": "CfUaoEKRuaPZ",
        "outputId": "c7e2f6ab-2f8c-4357-97a1-18a0a4d6bf70"
      },
      "outputs": [
        {
          "data": {
            "text/plain": [
              "array([ 0,  1,  2,  3,  4,  5,  6,  7,  8,  9, 10, 11, 12, 13, 14])"
            ]
          },
          "execution_count": 23,
          "metadata": {},
          "output_type": "execute_result"
        }
      ],
      "source": [
        "A = np.arange(15)\n",
        "A"
      ]
    },
    {
      "cell_type": "code",
      "execution_count": null,
      "metadata": {
        "id": "7rSjGhRguaPZ",
        "outputId": "01000254-f20c-47b7-dca3-a09c606ba5cd"
      },
      "outputs": [
        {
          "data": {
            "text/plain": [
              "array([[ 0,  1,  2,  3,  4],\n",
              "       [ 5,  6,  7,  8,  9],\n",
              "       [10, 11, 12, 13, 14]])"
            ]
          },
          "execution_count": 24,
          "metadata": {},
          "output_type": "execute_result"
        }
      ],
      "source": [
        "A.reshape(3, 5)"
      ]
    },
    {
      "cell_type": "code",
      "execution_count": null,
      "metadata": {
        "id": "-ng_Y95EuaPa",
        "outputId": "31c81fb1-88ce-4937-84be-e57564ece226"
      },
      "outputs": [
        {
          "data": {
            "text/plain": [
              "array([[ 0,  1,  2,  3,  4],\n",
              "       [ 5,  6,  7,  8,  9],\n",
              "       [10, 11, 12, 13, 14]])"
            ]
          },
          "execution_count": 25,
          "metadata": {},
          "output_type": "execute_result"
        }
      ],
      "source": [
        "A.reshape(3, -1)"
      ]
    },
    {
      "cell_type": "code",
      "execution_count": null,
      "metadata": {
        "id": "sRJcaECtuaPa",
        "outputId": "0b0426b0-2dc0-4f34-f2e5-c7e19c4f8df3"
      },
      "outputs": [
        {
          "name": "stdout",
          "output_type": "stream",
          "text": [
            "[3 1 4 2]\n",
            "[ 3 -1  3  2]\n"
          ]
        }
      ],
      "source": [
        "A = np.array([3, 1, 4, 2])\n",
        "B = np.array([3, -1, 3, 2])\n",
        "print(A)\n",
        "print(B)"
      ]
    },
    {
      "cell_type": "code",
      "execution_count": null,
      "metadata": {
        "id": "yAbJCm1euaPb",
        "outputId": "1fe6e82a-ad8c-42a8-c627-2c84680dfe63"
      },
      "outputs": [
        {
          "data": {
            "text/plain": [
              "array([6, 0, 7, 4])"
            ]
          },
          "execution_count": 32,
          "metadata": {},
          "output_type": "execute_result"
        }
      ],
      "source": [
        "A + B"
      ]
    },
    {
      "cell_type": "code",
      "execution_count": null,
      "metadata": {
        "id": "arteEd5MuaPb",
        "outputId": "73d05c2d-ff22-449a-ad1a-08b0b2511c29"
      },
      "outputs": [
        {
          "data": {
            "text/plain": [
              "array([0, 2, 1, 0])"
            ]
          },
          "execution_count": 35,
          "metadata": {},
          "output_type": "execute_result"
        }
      ],
      "source": [
        "A - B\n"
      ]
    },
    {
      "cell_type": "code",
      "execution_count": null,
      "metadata": {
        "id": "i0ViEghWuaPb",
        "outputId": "71aa5278-2292-478d-aec4-a2757064b8df"
      },
      "outputs": [
        {
          "data": {
            "text/plain": [
              "array([ 9, -1, 12,  4])"
            ]
          },
          "execution_count": 36,
          "metadata": {},
          "output_type": "execute_result"
        }
      ],
      "source": [
        "A * B"
      ]
    },
    {
      "cell_type": "code",
      "execution_count": null,
      "metadata": {
        "id": "miq4CG1ouaPb",
        "outputId": "1a841d9a-e42d-4119-8d31-38dc4d007400"
      },
      "outputs": [
        {
          "data": {
            "text/plain": [
              "array([ 9, -1, 12,  4])"
            ]
          },
          "execution_count": 40,
          "metadata": {},
          "output_type": "execute_result"
        }
      ],
      "source": [
        "np.multiply(A, B)"
      ]
    },
    {
      "cell_type": "code",
      "execution_count": null,
      "metadata": {
        "id": "nUybiV8luaPc"
      },
      "outputs": [],
      "source": []
    },
    {
      "cell_type": "code",
      "execution_count": null,
      "metadata": {
        "id": "Dh88Jjr6uaPc",
        "outputId": "a8e56fa3-dda7-4031-df74-6fa06007962e"
      },
      "outputs": [
        {
          "data": {
            "text/plain": [
              "array([ 1.        , -1.        ,  1.33333333,  1.        ])"
            ]
          },
          "execution_count": 37,
          "metadata": {},
          "output_type": "execute_result"
        }
      ],
      "source": [
        "A / B"
      ]
    },
    {
      "cell_type": "code",
      "execution_count": null,
      "metadata": {
        "id": "arukCfC8uaPc",
        "outputId": "aec5d621-f500-406e-bcea-10ec9cfd8091"
      },
      "outputs": [
        {
          "data": {
            "text/plain": [
              "array([5, 3, 6, 4])"
            ]
          },
          "execution_count": 38,
          "metadata": {},
          "output_type": "execute_result"
        }
      ],
      "source": [
        "A + 2"
      ]
    },
    {
      "cell_type": "code",
      "execution_count": null,
      "metadata": {
        "id": "IDQKnyIzuaPc",
        "outputId": "8501e917-bc39-41f2-daeb-01c402873472"
      },
      "outputs": [
        {
          "data": {
            "text/plain": [
              "array([12, -2, 13,  8])"
            ]
          },
          "execution_count": 39,
          "metadata": {},
          "output_type": "execute_result"
        }
      ],
      "source": [
        "A + 3*B"
      ]
    },
    {
      "cell_type": "markdown",
      "metadata": {
        "id": "P3vPYphZuaPc"
      },
      "source": [
        "Mnożenie macieżowe"
      ]
    },
    {
      "cell_type": "code",
      "execution_count": null,
      "metadata": {
        "id": "4ox-tpojuaPd",
        "outputId": "23dd1d1e-83c1-47f5-b885-89367652f94a"
      },
      "outputs": [
        {
          "name": "stdout",
          "output_type": "stream",
          "text": [
            "[[ 1  3]\n",
            " [-2  0]] \n",
            "\n",
            "[[ 6  0]\n",
            " [-1  2]]\n"
          ]
        }
      ],
      "source": [
        "X = np.array([[1,3], [-2, 0]])\n",
        "Y = np.array([[6,0], [-1, 2]])\n",
        "print(X, '\\n')\n",
        "print(Y)"
      ]
    },
    {
      "cell_type": "code",
      "execution_count": null,
      "metadata": {
        "id": "owxdDdmeuaPd",
        "outputId": "285c4ecd-d4c3-4d3d-cbe5-846dfde5b57b"
      },
      "outputs": [
        {
          "data": {
            "text/plain": [
              "array([[  3,   6],\n",
              "       [-12,   0]])"
            ]
          },
          "execution_count": 43,
          "metadata": {},
          "output_type": "execute_result"
        }
      ],
      "source": [
        "np.dot(X, Y)"
      ]
    },
    {
      "cell_type": "code",
      "execution_count": null,
      "metadata": {
        "id": "mzYX9DkYuaPe",
        "outputId": "0c96789a-e14a-4281-c46a-99bc19e0d45f"
      },
      "outputs": [
        {
          "data": {
            "text/plain": [
              "array([[  3,   6],\n",
              "       [-12,   0]])"
            ]
          },
          "execution_count": 44,
          "metadata": {},
          "output_type": "execute_result"
        }
      ],
      "source": [
        "X.dot(Y)"
      ]
    },
    {
      "cell_type": "code",
      "execution_count": null,
      "metadata": {
        "id": "Dypw-QmsuaPe",
        "outputId": "d80ecb45-7029-484d-cefb-f8075a97b033"
      },
      "outputs": [
        {
          "data": {
            "text/plain": [
              "array([[  3,   6],\n",
              "       [-12,   0]])"
            ]
          },
          "execution_count": 45,
          "metadata": {},
          "output_type": "execute_result"
        }
      ],
      "source": [
        "X @ Y"
      ]
    },
    {
      "cell_type": "markdown",
      "metadata": {
        "id": "zKLw23yruaPe"
      },
      "source": [
        "Generowanie liczb losowych"
      ]
    },
    {
      "cell_type": "markdown",
      "metadata": {
        "id": "1_yC4RVguaPe"
      },
      "source": [
        "Ustawiamy ziarno zeby zawsze uzyskac te same 'pseudo' losowe liczby"
      ]
    },
    {
      "cell_type": "code",
      "execution_count": null,
      "metadata": {
        "id": "UtfTiT5juaPe"
      },
      "outputs": [],
      "source": [
        "np.random.seed(0)"
      ]
    },
    {
      "cell_type": "code",
      "execution_count": null,
      "metadata": {
        "id": "G5Erw-OeuaPe",
        "outputId": "4818a4fb-1606-4bed-88bd-21fbecd17748"
      },
      "outputs": [
        {
          "data": {
            "text/plain": [
              "array([-2.36958691,  0.8640523 , -2.23960406,  0.40149906,  1.22487056,\n",
              "        0.06485611, -1.27968917, -0.5854312 , -0.26164545, -0.18224478])"
            ]
          },
          "execution_count": 107,
          "metadata": {},
          "output_type": "execute_result"
        }
      ],
      "source": [
        "np.random.randn(10)"
      ]
    },
    {
      "cell_type": "code",
      "execution_count": null,
      "metadata": {
        "id": "6MhaIr-CuaPe",
        "outputId": "ddc3eed1-675a-4648-fe43-ebf9137257e9"
      },
      "outputs": [
        {
          "data": {
            "text/plain": [
              "array([[-0.20289684, -0.10988278,  0.21348005],\n",
              "       [-1.20857365, -0.24201983,  1.51826117],\n",
              "       [-0.38464542, -0.44383609,  1.0781973 ],\n",
              "       [-2.55918467,  1.1813786 , -0.63190376],\n",
              "       [ 0.16392857,  0.09632136,  0.94246812],\n",
              "       [-0.26759475, -0.67802578,  1.29784579],\n",
              "       [-2.36417382,  0.02033418, -1.34792542],\n",
              "       [-0.76157339,  2.01125668, -0.04459543],\n",
              "       [ 0.1950697 , -1.78156286, -0.72904466],\n",
              "       [ 0.1965574 ,  0.35475769,  0.61688655]])"
            ]
          },
          "execution_count": 108,
          "metadata": {},
          "output_type": "execute_result"
        }
      ],
      "source": [
        "np.random.randn(10, 3)"
      ]
    },
    {
      "cell_type": "code",
      "execution_count": null,
      "metadata": {
        "id": "qXTNX9TOuaPf",
        "outputId": "a6bf2bf7-56b2-4bbe-a762-5237e488fb84"
      },
      "outputs": [
        {
          "data": {
            "text/plain": [
              "85"
            ]
          },
          "execution_count": 117,
          "metadata": {},
          "output_type": "execute_result"
        }
      ],
      "source": [
        "np.random.randint(low=10, high=101)\n"
      ]
    },
    {
      "cell_type": "code",
      "execution_count": null,
      "metadata": {
        "id": "cpHQMadtuaPf",
        "outputId": "8845c22a-3934-49da-d082-9af0ba2da9aa"
      },
      "outputs": [
        {
          "data": {
            "text/plain": [
              "6"
            ]
          },
          "execution_count": 119,
          "metadata": {},
          "output_type": "execute_result"
        }
      ],
      "source": [
        "np.random.choice([1,2,6,12,6])"
      ]
    },
    {
      "cell_type": "code",
      "execution_count": null,
      "metadata": {
        "id": "P7N56YfuuaPf",
        "outputId": "9cf14a6a-e875-4d65-ee76-dee200228d65"
      },
      "outputs": [
        {
          "data": {
            "text/plain": [
              "array([6, 4, 1, 5, 2, 0, 8, 3, 7, 9])"
            ]
          },
          "execution_count": 125,
          "metadata": {},
          "output_type": "execute_result"
        }
      ],
      "source": [
        "data = np.arange(10)\n",
        "np.random.shuffle(data)\n",
        "data"
      ]
    },
    {
      "cell_type": "markdown",
      "metadata": {
        "id": "HGrwCiuJuaPf"
      },
      "source": [
        "Indeksowanie i wycinanie"
      ]
    },
    {
      "cell_type": "code",
      "execution_count": null,
      "metadata": {
        "id": "XvPvKBiwuaPf",
        "outputId": "f478dd4e-223d-47b6-d49c-5f098f502e45"
      },
      "outputs": [
        {
          "data": {
            "text/plain": [
              "(array([0, 1, 2]),\n",
              " array([ 0,  1,  2,  3,  4,  5,  6,  7,  8,  9, 10, 11, 12, 13, 14, 15, 16,\n",
              "        17, 18, 19]))"
            ]
          },
          "execution_count": 130,
          "metadata": {},
          "output_type": "execute_result"
        }
      ],
      "source": [
        "A = np.arange(20)\n",
        "A[0:3], A"
      ]
    },
    {
      "cell_type": "code",
      "execution_count": null,
      "metadata": {
        "id": "-QFRHNEnuaPf",
        "outputId": "0ecbca63-3421-4abf-9c5b-7499c502a9f3"
      },
      "outputs": [
        {
          "data": {
            "text/plain": [
              "19"
            ]
          },
          "execution_count": 132,
          "metadata": {},
          "output_type": "execute_result"
        }
      ],
      "source": [
        "A[-1]"
      ]
    },
    {
      "cell_type": "code",
      "execution_count": null,
      "metadata": {
        "id": "oLxyT_CmuaPg",
        "outputId": "3f653584-8139-4ddd-f653-4278ff2b1910"
      },
      "outputs": [
        {
          "data": {
            "text/plain": [
              "array([[ 0,  1,  2,  3,  4],\n",
              "       [ 5,  6,  7,  8,  9],\n",
              "       [10, 11, 12, 13, 14],\n",
              "       [15, 16, 17, 18, 19]])"
            ]
          },
          "execution_count": 138,
          "metadata": {},
          "output_type": "execute_result"
        }
      ],
      "source": [
        "A = A.reshape(4, 5)\n",
        "A"
      ]
    },
    {
      "cell_type": "code",
      "execution_count": null,
      "metadata": {
        "id": "yK84EexluaPg",
        "outputId": "c21d5c9c-646a-458d-e98a-87eb48c4b53c"
      },
      "outputs": [
        {
          "data": {
            "text/plain": [
              "array([0, 1, 2, 3, 4])"
            ]
          },
          "execution_count": 137,
          "metadata": {},
          "output_type": "execute_result"
        }
      ],
      "source": [
        "A[0]"
      ]
    },
    {
      "cell_type": "code",
      "execution_count": null,
      "metadata": {
        "id": "w3Pmq9giuaPg",
        "outputId": "f14a0601-d4ca-48ea-e7c6-3196ac8533ce"
      },
      "outputs": [
        {
          "data": {
            "text/plain": [
              "array([ 0,  5, 10, 15])"
            ]
          },
          "execution_count": 139,
          "metadata": {},
          "output_type": "execute_result"
        }
      ],
      "source": [
        "A[:, 0]"
      ]
    },
    {
      "cell_type": "code",
      "execution_count": null,
      "metadata": {
        "id": "k8tZH0qguaPg",
        "outputId": "149a1ba6-e89d-40ca-bd89-42308576d377"
      },
      "outputs": [
        {
          "data": {
            "text/plain": [
              "array([ 4,  9, 14, 19])"
            ]
          },
          "execution_count": 140,
          "metadata": {},
          "output_type": "execute_result"
        }
      ],
      "source": [
        "A[:, -1]"
      ]
    },
    {
      "cell_type": "code",
      "execution_count": null,
      "metadata": {
        "id": "pCDfriiCuaPg",
        "outputId": "4335c9af-5a01-4fef-eab2-9b1debbd5cd6"
      },
      "outputs": [
        {
          "data": {
            "text/plain": [
              "6"
            ]
          },
          "execution_count": 141,
          "metadata": {},
          "output_type": "execute_result"
        }
      ],
      "source": [
        "A[1, 1]"
      ]
    },
    {
      "cell_type": "code",
      "execution_count": null,
      "metadata": {
        "id": "ISAvMl47uaPg",
        "outputId": "49c3ceb8-5730-4723-c654-e76845fda9a0"
      },
      "outputs": [
        {
          "data": {
            "text/plain": [
              "array([[ 6,  7,  8],\n",
              "       [11, 12, 13]])"
            ]
          },
          "execution_count": 146,
          "metadata": {},
          "output_type": "execute_result"
        }
      ],
      "source": [
        "A[1:3, 1:4]"
      ]
    },
    {
      "cell_type": "code",
      "execution_count": null,
      "metadata": {
        "id": "7P2BzqsMuaPl",
        "outputId": "247941a8-6805-45ef-dc91-abbeea4589f3"
      },
      "outputs": [
        {
          "data": {
            "text/plain": [
              "array([[ 0,  1,  2,  3,  4],\n",
              "       [ 5,  6, 14,  8,  9],\n",
              "       [10, 11, 12, 13, 14],\n",
              "       [15, 16, 17, 18, 19]])"
            ]
          },
          "execution_count": 148,
          "metadata": {},
          "output_type": "execute_result"
        }
      ],
      "source": [
        "A[1 , 2] = 14\n",
        "A"
      ]
    },
    {
      "cell_type": "markdown",
      "metadata": {
        "id": "XATmtJlAuaPl"
      },
      "source": [
        "Iteracja po tablicach"
      ]
    },
    {
      "cell_type": "code",
      "execution_count": null,
      "metadata": {
        "id": "wR31YFMeuaPl",
        "outputId": "0f922b3a-b576-4c9a-fc05-89a04e264f33"
      },
      "outputs": [
        {
          "data": {
            "text/plain": [
              "array([[ 0,  1,  2,  3,  4],\n",
              "       [ 5,  6, 14,  8,  9],\n",
              "       [10, 11, 12, 13, 14],\n",
              "       [15, 16, 17, 18, 19]])"
            ]
          },
          "execution_count": 149,
          "metadata": {},
          "output_type": "execute_result"
        }
      ],
      "source": [
        "A"
      ]
    },
    {
      "cell_type": "markdown",
      "metadata": {
        "id": "xkKKgQFmuaPl"
      },
      "source": [
        "Iterowanie po elementach tablicy"
      ]
    },
    {
      "cell_type": "code",
      "execution_count": null,
      "metadata": {
        "id": "CsvaAFo9uaPl",
        "outputId": "316a4f70-eb78-493e-e4cd-6e7ac2577be1"
      },
      "outputs": [
        {
          "name": "stdout",
          "output_type": "stream",
          "text": [
            "[0 1 2]\n",
            "[ 5  6 14]\n",
            "[10 11 12]\n",
            "[15 16 17]\n"
          ]
        }
      ],
      "source": [
        "for row in A:\n",
        "  print(row)"
      ]
    },
    {
      "cell_type": "code",
      "execution_count": null,
      "metadata": {
        "id": "3Cxwe8w1uaPl"
      },
      "outputs": [],
      "source": [
        "for row in A:\n",
        "  print(row[0])"
      ]
    },
    {
      "cell_type": "code",
      "execution_count": null,
      "metadata": {
        "id": "_EC_wkrauaPl"
      },
      "outputs": [],
      "source": [
        "for row in A:\n",
        "  print(row[:3])"
      ]
    },
    {
      "cell_type": "code",
      "execution_count": null,
      "metadata": {
        "id": "D863sxnLuaPm"
      },
      "outputs": [],
      "source": [
        "for item in A.flat:\n",
        "  print(item)"
      ]
    },
    {
      "cell_type": "markdown",
      "metadata": {
        "id": "bi_LHtBLuaPm"
      },
      "source": [
        "Zmiana rozmiaru tablicy"
      ]
    },
    {
      "cell_type": "code",
      "execution_count": null,
      "metadata": {
        "id": "nsVbJF4DuaPm",
        "outputId": "32a9eefb-383a-485e-c7c9-7790b7083318"
      },
      "outputs": [
        {
          "data": {
            "text/plain": [
              "(4, 5)"
            ]
          },
          "execution_count": 154,
          "metadata": {},
          "output_type": "execute_result"
        }
      ],
      "source": [
        "A.shape"
      ]
    },
    {
      "cell_type": "code",
      "execution_count": null,
      "metadata": {
        "id": "kiFWscThuaPm",
        "outputId": "0a4f645d-d609-4c9f-9610-9dfd947dbd39"
      },
      "outputs": [
        {
          "data": {
            "text/plain": [
              "array([[ 0,  1,  2,  3],\n",
              "       [ 4,  5,  6, 14],\n",
              "       [ 8,  9, 10, 11],\n",
              "       [12, 13, 14, 15],\n",
              "       [16, 17, 18, 19]])"
            ]
          },
          "execution_count": 155,
          "metadata": {},
          "output_type": "execute_result"
        }
      ],
      "source": [
        "A.reshape(5,4)"
      ]
    },
    {
      "cell_type": "code",
      "execution_count": null,
      "metadata": {
        "id": "757RRUMRuaPm",
        "outputId": "c10ff35a-555c-4d95-870e-1c8b6bea3e93"
      },
      "outputs": [
        {
          "data": {
            "text/plain": [
              "array([ 0,  1,  2,  3,  4,  5,  6, 14,  8,  9, 10, 11, 12, 13, 14, 15, 16,\n",
              "       17, 18, 19])"
            ]
          },
          "execution_count": 158,
          "metadata": {},
          "output_type": "execute_result"
        }
      ],
      "source": [
        "## flatten array\n",
        "A.ravel()"
      ]
    },
    {
      "cell_type": "code",
      "execution_count": null,
      "metadata": {
        "id": "SlqKbjtruaPm",
        "outputId": "1fc9cd66-8d3e-4541-e530-fa5a7ca53e48"
      },
      "outputs": [
        {
          "data": {
            "text/plain": [
              "(array([[0, 1, 2],\n",
              "        [3, 4, 5]]),\n",
              " array([[0, 3],\n",
              "        [1, 4],\n",
              "        [2, 5]]))"
            ]
          },
          "execution_count": 164,
          "metadata": {},
          "output_type": "execute_result"
        }
      ],
      "source": [
        "## transpose\n",
        "B = np.arange(6).reshape(2,3)\n",
        "B, B.T"
      ]
    },
    {
      "cell_type": "markdown",
      "metadata": {
        "id": "Zma5DGLMuaPm"
      },
      "source": [
        "Maski logiczne"
      ]
    },
    {
      "cell_type": "code",
      "execution_count": null,
      "metadata": {
        "id": "wbvEP62muaPn",
        "outputId": "df1a3e01-4b9c-43b7-ef45-50906a51a199"
      },
      "outputs": [
        {
          "data": {
            "text/plain": [
              "array([[-10. ,  -9.5,  -9. ,  -8.5],\n",
              "       [ -8. ,  -7.5,  -7. ,  -6.5],\n",
              "       [ -6. ,  -5.5,  -5. ,  -4.5],\n",
              "       [ -4. ,  -3.5,  -3. ,  -2.5],\n",
              "       [ -2. ,  -1.5,  -1. ,  -0.5],\n",
              "       [  0. ,   0.5,   1. ,   1.5],\n",
              "       [  2. ,   2.5,   3. ,   3.5],\n",
              "       [  4. ,   4.5,   5. ,   5.5],\n",
              "       [  6. ,   6.5,   7. ,   7.5],\n",
              "       [  8. ,   8.5,   9. ,   9.5]])"
            ]
          },
          "execution_count": 168,
          "metadata": {},
          "output_type": "execute_result"
        }
      ],
      "source": [
        "A = np.arange(start=-10, stop=10, step=0.5)\n",
        "A = A.reshape(10, -1)\n",
        "A"
      ]
    },
    {
      "cell_type": "code",
      "execution_count": null,
      "metadata": {
        "id": "sS-eXu4cuaPn",
        "outputId": "52a01003-b110-495c-f869-6093c078c1ea"
      },
      "outputs": [
        {
          "data": {
            "text/plain": [
              "array([[False, False, False, False],\n",
              "       [False, False, False, False],\n",
              "       [False, False, False, False],\n",
              "       [False, False, False, False],\n",
              "       [False, False, False, False],\n",
              "       [False,  True,  True,  True],\n",
              "       [ True,  True,  True,  True],\n",
              "       [ True,  True,  True,  True],\n",
              "       [ True,  True,  True,  True],\n",
              "       [ True,  True,  True,  True]])"
            ]
          },
          "execution_count": 169,
          "metadata": {},
          "output_type": "execute_result"
        }
      ],
      "source": [
        "# prepare mask where elements greater than 0\n",
        "A > 0"
      ]
    },
    {
      "cell_type": "code",
      "execution_count": null,
      "metadata": {
        "id": "tdS1dseruaPn",
        "outputId": "5b08dd5d-0753-43eb-c8e2-eb35972431f6"
      },
      "outputs": [
        {
          "data": {
            "text/plain": [
              "array([0.5, 1. , 1.5, 2. , 2.5, 3. , 3.5, 4. , 4.5, 5. , 5.5, 6. , 6.5,\n",
              "       7. , 7.5, 8. , 8.5, 9. , 9.5])"
            ]
          },
          "execution_count": 170,
          "metadata": {},
          "output_type": "execute_result"
        }
      ],
      "source": [
        "# take elements base on a mask\n",
        "A[A > 0]"
      ]
    },
    {
      "cell_type": "code",
      "execution_count": null,
      "metadata": {
        "id": "NzsYxJJquaPn",
        "outputId": "247e8beb-3363-4977-857c-db3ac4e8ab03"
      },
      "outputs": [
        {
          "data": {
            "text/plain": [
              "array([-4.5, -4. , -3.5, -3. , -2.5, -2. , -1.5, -1. , -0.5,  0. ,  0.5,\n",
              "        1. ,  1.5,  2. ,  2.5,  3. ,  3.5,  4. ,  4.5])"
            ]
          },
          "execution_count": 171,
          "metadata": {},
          "output_type": "execute_result"
        }
      ],
      "source": [
        "# mask with AND condition\n",
        "M = np.bitwise_and(A > -5, A < 5)\n",
        "A[M]"
      ]
    }
  ],
  "metadata": {
    "kernelspec": {
      "display_name": "base",
      "language": "python",
      "name": "python3"
    },
    "language_info": {
      "codemirror_mode": {
        "name": "ipython",
        "version": 3
      },
      "file_extension": ".py",
      "mimetype": "text/x-python",
      "name": "python",
      "nbconvert_exporter": "python",
      "pygments_lexer": "ipython3",
      "version": "3.10.10"
    },
    "colab": {
      "provenance": [],
      "include_colab_link": true
    }
  },
  "nbformat": 4,
  "nbformat_minor": 0
}